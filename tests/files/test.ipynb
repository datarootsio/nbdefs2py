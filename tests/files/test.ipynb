{
 "cells": [
  {
   "cell_type": "code",
   "execution_count": null,
   "metadata": {},
   "outputs": [
    {
     "ename": "",
     "evalue": "",
     "output_type": "error",
     "traceback": [
      "\u001b[1;31mRunning cells with '/Users/murilo/.pyenv/versions/3.10.6/bin/python' requires ipykernel package.\n",
      "\u001b[1;31mRun the following command to install 'ipykernel' into the Python environment. \n",
      "\u001b[1;31mCommand: '/Users/murilo/.pyenv/versions/3.10.6/bin/python -m pip install ipykernel -U --force-reinstall'"
     ]
    }
   ],
   "source": [
    "print(\"something before\")\n",
    "\n",
    "def another_func() -> None:\n",
    "  ...\n",
    "\n",
    "x = \"something\"\n",
    "\n",
    "def print_this(x: str) -> None:\n",
    "  print(x)"
   ]
  }
 ],
 "metadata": {
  "kernelspec": {
   "display_name": "Python 3",
   "language": "python",
   "name": "python3"
  },
  "language_info": {
   "name": "python",
   "version": "3.10.6 (main, Sep 27 2022, 14:37:34) [Clang 12.0.5 (clang-1205.0.22.11)]"
  },
  "orig_nbformat": 4,
  "vscode": {
   "interpreter": {
    "hash": "32df96b41bb674446e95cd0568445059eaa02ee4537a5d4df632e4b9e4533983"
   }
  }
 },
 "nbformat": 4,
 "nbformat_minor": 2
}
